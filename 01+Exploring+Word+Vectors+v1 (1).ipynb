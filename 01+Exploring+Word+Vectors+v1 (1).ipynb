{
 "cells": [
  {
   "cell_type": "code",
   "execution_count": 3,
   "metadata": {
    "scrolled": true
   },
   "outputs": [],
   "source": [
    "import nltk\n",
    "from gensim.models import word2vec\n",
    "from gensim.models.word2vec import Word2Vec"
   ]
  },
  {
   "cell_type": "code",
   "execution_count": null,
   "metadata": {},
   "outputs": [],
   "source": []
  },
  {
   "cell_type": "code",
   "execution_count": 4,
   "metadata": {},
   "outputs": [],
   "source": [
    "import numpy as np\n",
    "import matplotlib.pyplot as plt\n",
    "import os"
   ]
  },
  {
   "cell_type": "markdown",
   "metadata": {},
   "source": [
    "### Creating our sentences to train the word vectors"
   ]
  },
  {
   "cell_type": "code",
   "execution_count": 15,
   "metadata": {},
   "outputs": [],
   "source": [
    "TextCorpus  = [\"I like Upgrad\",\n",
    "               \"Upgrad has a good ML program\",\n",
    "               \"Upgrad has good faculty\",\n",
    "               \"Rahim is the good faculty\",\n",
    "               \"I like ML\"\n",
    "]"
   ]
  },
  {
   "cell_type": "code",
   "execution_count": 16,
   "metadata": {},
   "outputs": [
    {
     "data": {
      "text/plain": [
       "[['I', 'like', 'Upgrad'], ['Upgrad', 'has', 'a', 'good', 'ML', 'program']]"
      ]
     },
     "execution_count": 16,
     "metadata": {},
     "output_type": "execute_result"
    }
   ],
   "source": [
    "text_tokens = [sent.split() for sent in TextCorpus]\n",
    "text_tokens[:2]"
   ]
  },
  {
   "cell_type": "markdown",
   "metadata": {},
   "source": [
    "#### Training the word vectors"
   ]
  },
  {
   "cell_type": "code",
   "execution_count": 17,
   "metadata": {},
   "outputs": [],
   "source": [
    "model = Word2Vec(text_tokens,min_count=1)"
   ]
  },
  {
   "cell_type": "code",
   "execution_count": 18,
   "metadata": {},
   "outputs": [
    {
     "data": {
      "text/plain": [
       "array([ 2.6572028e-03,  4.5542438e-03,  1.3136492e-03,  3.7089712e-04,\n",
       "       -3.6771421e-03, -3.3272486e-03,  8.0898980e-04,  5.0470687e-04,\n",
       "        3.4421948e-03, -1.2906317e-03, -6.4896012e-04, -3.7269732e-03,\n",
       "        3.6755267e-03,  1.3217041e-03,  3.2862250e-03, -2.2337111e-03,\n",
       "       -4.0403064e-03,  8.0792955e-04,  2.2178120e-03, -1.9343986e-04,\n",
       "        2.5479435e-03,  2.2614766e-04, -3.8605696e-03, -4.9701063e-03,\n",
       "        9.0566470e-04,  8.4175065e-04,  8.5970358e-04,  4.5626513e-03,\n",
       "       -2.3087531e-03, -1.4992228e-03, -3.0949988e-05, -9.6353382e-04,\n",
       "        1.3970499e-04, -3.7316086e-03, -4.8719780e-03,  1.9329680e-05,\n",
       "        3.3889103e-03, -1.6202100e-03,  3.9805700e-03,  2.0062432e-03,\n",
       "       -4.1142586e-03,  2.7984746e-03, -2.8114335e-03, -2.3708008e-03,\n",
       "       -4.8618098e-03,  1.4217653e-03, -4.0569404e-04,  2.7159648e-03,\n",
       "        1.8464359e-03,  4.9380879e-03,  1.8537804e-03, -9.3353324e-04,\n",
       "        1.9144650e-03,  3.0552053e-03,  3.2823884e-03, -4.2874892e-03,\n",
       "       -1.1652483e-03,  2.6155915e-03, -1.7643337e-03, -4.1979654e-03,\n",
       "        1.9293459e-03, -1.2058280e-03, -4.6032987e-04, -3.4033703e-03,\n",
       "       -4.9479776e-03, -1.3855583e-03, -4.7312467e-03, -1.4036834e-03,\n",
       "        1.9646129e-03,  2.8808769e-03,  1.3681449e-03, -1.2183923e-03,\n",
       "       -1.2180223e-03,  2.3322823e-03,  3.7584950e-03,  1.7537666e-03,\n",
       "        2.6770087e-03,  3.3986263e-04,  4.5926245e-03,  3.5175718e-03,\n",
       "        2.8144696e-03,  4.5735156e-03, -2.3458218e-03, -1.6668005e-03,\n",
       "       -1.4265809e-03, -2.0636560e-04, -3.2837577e-03, -3.9495425e-03,\n",
       "        2.5024104e-03,  1.2357149e-03, -3.8012359e-03, -2.9351301e-03,\n",
       "        2.6349488e-04, -3.4099265e-03, -1.0196128e-03,  1.8317244e-03,\n",
       "       -1.8490703e-03, -4.8128790e-03, -8.8739136e-05,  3.3756441e-03],\n",
       "      dtype=float32)"
      ]
     },
     "execution_count": 18,
     "metadata": {},
     "output_type": "execute_result"
    }
   ],
   "source": [
    "model.wv['Rahim']"
   ]
  },
  {
   "cell_type": "code",
   "execution_count": 19,
   "metadata": {},
   "outputs": [
    {
     "data": {
      "text/plain": [
       "100"
      ]
     },
     "execution_count": 19,
     "metadata": {},
     "output_type": "execute_result"
    }
   ],
   "source": [
    "len(model.wv['Rahim'])"
   ]
  },
  {
   "cell_type": "markdown",
   "metadata": {},
   "source": [
    "Similarity between word vectors is measures using Cosine similarity"
   ]
  },
  {
   "cell_type": "code",
   "execution_count": 21,
   "metadata": {},
   "outputs": [
    {
     "data": {
      "text/plain": [
       "[('program', 0.1777171790599823),\n",
       " ('like', 0.13208122551441193),\n",
       " ('the', 0.03567284345626831),\n",
       " ('Upgrad', 0.031139735132455826),\n",
       " ('a', -0.0005926415324211121)]"
      ]
     },
     "execution_count": 21,
     "metadata": {},
     "output_type": "execute_result"
    }
   ],
   "source": [
    "model.wv.most_similar(\"faculty\",topn=5)"
   ]
  },
  {
   "cell_type": "markdown",
   "metadata": {},
   "source": [
    "### Training our word vectors on the text8 corpus\n",
    "Cleaned Wikipedia text, compressed to 100MB"
   ]
  },
  {
   "cell_type": "markdown",
   "metadata": {},
   "source": [
    "#### Importing the raw text file"
   ]
  },
  {
   "cell_type": "code",
   "execution_count": 28,
   "metadata": {},
   "outputs": [],
   "source": [
    "sentences = word2vec.Text8Corpus('/mnt/c/Users/yamshee.fatima/Downloads/text8/text8')"
   ]
  },
  {
   "cell_type": "code",
   "execution_count": 29,
   "metadata": {},
   "outputs": [
    {
     "data": {
      "text/plain": [
       "gensim.models.word2vec.Text8Corpus"
      ]
     },
     "execution_count": 29,
     "metadata": {},
     "output_type": "execute_result"
    }
   ],
   "source": [
    "type(sentences)"
   ]
  },
  {
   "cell_type": "markdown",
   "metadata": {},
   "source": [
    "#### Using all default parameters"
   ]
  },
  {
   "cell_type": "code",
   "execution_count": 30,
   "metadata": {
    "scrolled": true
   },
   "outputs": [],
   "source": [
    "model = Word2Vec(sentences)"
   ]
  },
  {
   "cell_type": "code",
   "execution_count": 31,
   "metadata": {},
   "outputs": [
    {
     "data": {
      "text/plain": [
       "[('humanity', 0.7760533690452576),\n",
       " ('goodness', 0.7444111108779907),\n",
       " ('pleasure', 0.7337216138839722),\n",
       " ('desires', 0.7267495393753052),\n",
       " ('perfection', 0.7153584957122803),\n",
       " ('dignity', 0.7138282060623169),\n",
       " ('salvation', 0.7118256092071533),\n",
       " ('truth', 0.7055754661560059),\n",
       " ('mankind', 0.7008488774299622),\n",
       " ('fear', 0.700758695602417)]"
      ]
     },
     "execution_count": 31,
     "metadata": {},
     "output_type": "execute_result"
    }
   ],
   "source": [
    "model.wv.most_similar(\"happiness\")"
   ]
  },
  {
   "cell_type": "code",
   "execution_count": 32,
   "metadata": {
    "scrolled": true
   },
   "outputs": [
    {
     "data": {
      "text/plain": [
       "[('elizabeth', 0.7846023440361023),\n",
       " ('princess', 0.7470152378082275),\n",
       " ('prince', 0.709462583065033),\n",
       " ('king', 0.6845520734786987),\n",
       " ('mary', 0.6700204610824585),\n",
       " ('victoria', 0.668650209903717),\n",
       " ('electress', 0.6639964580535889),\n",
       " ('consort', 0.6636486053466797),\n",
       " ('duchess', 0.6579384803771973),\n",
       " ('crown', 0.6420778036117554)]"
      ]
     },
     "execution_count": 32,
     "metadata": {},
     "output_type": "execute_result"
    }
   ],
   "source": [
    "model.wv.most_similar(\"queen\")"
   ]
  },
  {
   "cell_type": "markdown",
   "metadata": {},
   "source": [
    " "
   ]
  },
  {
   "cell_type": "markdown",
   "metadata": {},
   "source": [
    " "
   ]
  },
  {
   "cell_type": "markdown",
   "metadata": {},
   "source": [
    " "
   ]
  },
  {
   "cell_type": "markdown",
   "metadata": {},
   "source": [
    " "
   ]
  },
  {
   "cell_type": "markdown",
   "metadata": {},
   "source": [
    " "
   ]
  },
  {
   "cell_type": "markdown",
   "metadata": {},
   "source": [
    " "
   ]
  },
  {
   "cell_type": "markdown",
   "metadata": {},
   "source": [
    " "
   ]
  },
  {
   "cell_type": "markdown",
   "metadata": {},
   "source": [
    " "
   ]
  },
  {
   "cell_type": "markdown",
   "metadata": {},
   "source": [
    "#### Semantic regularities captured in word embeddings"
   ]
  },
  {
   "cell_type": "code",
   "execution_count": 33,
   "metadata": {},
   "outputs": [
    {
     "data": {
      "text/plain": [
       "[('queen', 0.6781178116798401),\n",
       " ('elizabeth', 0.6146624088287354),\n",
       " ('empress', 0.6088926196098328),\n",
       " ('throne', 0.6005346775054932),\n",
       " ('daughter', 0.5954824686050415)]"
      ]
     },
     "execution_count": 33,
     "metadata": {},
     "output_type": "execute_result"
    }
   ],
   "source": [
    "model.wv.most_similar(positive=['woman', 'king'], negative=['man'], topn=5)"
   ]
  },
  {
   "cell_type": "code",
   "execution_count": 34,
   "metadata": {},
   "outputs": [
    {
     "data": {
      "text/plain": [
       "[('heroine', 0.644250750541687),\n",
       " ('protagonist', 0.6173481345176697),\n",
       " ('survivor', 0.6160202622413635),\n",
       " ('warrior', 0.6033520102500916),\n",
       " ('idol', 0.5918798446655273)]"
      ]
     },
     "execution_count": 34,
     "metadata": {},
     "output_type": "execute_result"
    }
   ],
   "source": [
    "model.wv.most_similar(positive=['woman', 'hero'], negative=['man'], topn=5)"
   ]
  },
  {
   "cell_type": "markdown",
   "metadata": {},
   "source": [
    "### Visualizing these word vectors"
   ]
  },
  {
   "cell_type": "code",
   "execution_count": 35,
   "metadata": {},
   "outputs": [],
   "source": [
    "X = model.wv[model.wv.vocab]"
   ]
  },
  {
   "cell_type": "markdown",
   "metadata": {},
   "source": [
    "##### We'll use PCA to reduce and visualize in 2 dimensions"
   ]
  },
  {
   "cell_type": "code",
   "execution_count": 36,
   "metadata": {},
   "outputs": [],
   "source": [
    "from sklearn.decomposition import PCA"
   ]
  },
  {
   "cell_type": "code",
   "execution_count": 41,
   "metadata": {},
   "outputs": [],
   "source": [
    "pca = PCA(n_components=3)\n",
    "result = pca.fit_transform(X)"
   ]
  },
  {
   "cell_type": "markdown",
   "metadata": {},
   "source": [
    "Randomly select 100 words"
   ]
  },
  {
   "cell_type": "code",
   "execution_count": 42,
   "metadata": {},
   "outputs": [],
   "source": [
    "import random\n",
    "random.seed(2)"
   ]
  },
  {
   "cell_type": "code",
   "execution_count": 43,
   "metadata": {
    "scrolled": true
   },
   "outputs": [],
   "source": [
    "ind = random.sample(range(0,len(X)),100)\n",
    "result_random = result[ind]\n",
    "all_words = list(model.wv.vocab)\n",
    "words = [all_words[i] for i in ind]"
   ]
  },
  {
   "cell_type": "code",
   "execution_count": 44,
   "metadata": {},
   "outputs": [
    {
     "data": {
      "image/png": "[encoded data removed]",
      "text/plain": [
       "<Figure size 864x864 with 1 Axes>"
      ]
     },
     "metadata": {
      "needs_background": "light"
     },
     "output_type": "display_data"
    }
   ],
   "source": [
    "plt.figure(figsize=(12,12))\n",
    "plt.scatter(result_random[:,0], result_random[:,1])\n",
    "for i, word in enumerate(words):\n",
    "    plt.annotate(word, xy=(result_random[i, 0], result_random[i, 1]))\n",
    "plt.show()"
   ]
  },
  {
   "cell_type": "markdown",
   "metadata": {},
   "source": [
    "## Effect of vector dimension"
   ]
  },
  {
   "cell_type": "markdown",
   "metadata": {},
   "source": [
    "#### Reducing the length to 50"
   ]
  },
  {
   "cell_type": "code",
   "execution_count": 45,
   "metadata": {},
   "outputs": [],
   "source": [
    "model = Word2Vec(sentences, size=50)"
   ]
  },
  {
   "cell_type": "code",
   "execution_count": 49,
   "metadata": {},
   "outputs": [
    {
     "data": {
      "text/plain": [
       "[('credit', 0.7632278800010681),\n",
       " ('profits', 0.7554765939712524),\n",
       " ('debts', 0.7536838054656982),\n",
       " ('payment', 0.7441771030426025),\n",
       " ('compensation', 0.7385972142219543),\n",
       " ('buying', 0.7359965443611145),\n",
       " ('payments', 0.7299685478210449),\n",
       " ('funds', 0.7195247411727905),\n",
       " ('royalties', 0.7153642177581787),\n",
       " ('cash', 0.7041113972663879)]"
      ]
     },
     "execution_count": 49,
     "metadata": {},
     "output_type": "execute_result"
    }
   ],
   "source": [
    "model.wv.most_similar(\"money\")"
   ]
  },
  {
   "cell_type": "code",
   "execution_count": 50,
   "metadata": {},
   "outputs": [
    {
     "data": {
      "text/plain": [
       "[('princess', 0.805195152759552),\n",
       " ('prince', 0.8049694895744324),\n",
       " ('king', 0.7870270609855652),\n",
       " ('elizabeth', 0.7839569449424744),\n",
       " ('lord', 0.7543252110481262)]"
      ]
     },
     "execution_count": 50,
     "metadata": {},
     "output_type": "execute_result"
    }
   ],
   "source": [
    "model.wv.most_similar(\"queen\", topn=5)"
   ]
  },
  {
   "cell_type": "code",
   "execution_count": 51,
   "metadata": {
    "scrolled": true
   },
   "outputs": [
    {
     "data": {
      "text/plain": [
       "[('queen', 0.7299737930297852),\n",
       " ('emperor', 0.7152138948440552),\n",
       " ('empress', 0.7109093070030212),\n",
       " ('son', 0.7096666097640991),\n",
       " ('prince', 0.7055314183235168)]"
      ]
     },
     "execution_count": 51,
     "metadata": {},
     "output_type": "execute_result"
    }
   ],
   "source": [
    "model.wv.most_similar(positive=['woman', 'king'], negative=['man'], topn=5)"
   ]
  },
  {
   "cell_type": "markdown",
   "metadata": {},
   "source": [
    " "
   ]
  },
  {
   "cell_type": "markdown",
   "metadata": {},
   "source": [
    " "
   ]
  },
  {
   "cell_type": "markdown",
   "metadata": {},
   "source": [
    " "
   ]
  },
  {
   "cell_type": "markdown",
   "metadata": {},
   "source": [
    " "
   ]
  },
  {
   "cell_type": "markdown",
   "metadata": {},
   "source": [
    " "
   ]
  },
  {
   "cell_type": "markdown",
   "metadata": {},
   "source": [
    " "
   ]
  },
  {
   "cell_type": "markdown",
   "metadata": {},
   "source": [
    " "
   ]
  },
  {
   "cell_type": "markdown",
   "metadata": {},
   "source": [
    "#### Inreasing vector length to 300"
   ]
  },
  {
   "cell_type": "code",
   "execution_count": 52,
   "metadata": {},
   "outputs": [],
   "source": [
    "model = word2vec.Word2Vec(sentences, size = 300)"
   ]
  },
  {
   "cell_type": "code",
   "execution_count": 53,
   "metadata": {},
   "outputs": [
    {
     "data": {
      "text/plain": [
       "[('profits', 0.7398686408996582),\n",
       " ('credit', 0.677410364151001),\n",
       " ('payments', 0.6655679941177368),\n",
       " ('payment', 0.6626068353652954),\n",
       " ('funds', 0.6624833345413208),\n",
       " ('buying', 0.6422510147094727),\n",
       " ('tax', 0.6385329365730286),\n",
       " ('taxes', 0.6378422975540161),\n",
       " ('demand', 0.6344283819198608),\n",
       " ('cash', 0.626305341720581)]"
      ]
     },
     "execution_count": 53,
     "metadata": {},
     "output_type": "execute_result"
    }
   ],
   "source": [
    "model.wv.most_similar(\"money\")"
   ]
  },
  {
   "cell_type": "code",
   "execution_count": 54,
   "metadata": {
    "scrolled": true
   },
   "outputs": [
    {
     "data": {
      "text/plain": [
       "[('elizabeth', 0.7437019348144531),\n",
       " ('princess', 0.7230952978134155),\n",
       " ('prince', 0.7058607339859009),\n",
       " ('mary', 0.6563912630081177),\n",
       " ('crown', 0.6515324115753174),\n",
       " ('king', 0.6424435377120972),\n",
       " ('consort', 0.6301207542419434),\n",
       " ('aragon', 0.6246450543403625),\n",
       " ('regent', 0.608629584312439),\n",
       " ('victoria', 0.6036885976791382)]"
      ]
     },
     "execution_count": 54,
     "metadata": {},
     "output_type": "execute_result"
    }
   ],
   "source": [
    "model.wv.most_similar(\"queen\")"
   ]
  },
  {
   "cell_type": "code",
   "execution_count": 55,
   "metadata": {
    "scrolled": true
   },
   "outputs": [
    {
     "data": {
      "text/plain": [
       "[('queen', 0.6285409927368164),\n",
       " ('elizabeth', 0.5712145566940308),\n",
       " ('prince', 0.5595001578330994),\n",
       " ('throne', 0.5444849729537964),\n",
       " ('princess', 0.5420706272125244)]"
      ]
     },
     "execution_count": 55,
     "metadata": {},
     "output_type": "execute_result"
    }
   ],
   "source": [
    "model.wv.most_similar(positive=['woman', 'king'], negative=['man'], topn=5)"
   ]
  },
  {
   "cell_type": "markdown",
   "metadata": {},
   "source": [
    "## Skip gram vs CBOW"
   ]
  },
  {
   "cell_type": "markdown",
   "metadata": {},
   "source": [
    "Simply put, the CBOW model learns the embedding by predicting the current word based on its context. The skip-gram model learns by predicting the surrounding words given a current word."
   ]
  },
  {
   "cell_type": "markdown",
   "metadata": {},
   "source": [
    "![](https://3qeqpr26caki16dnhd19sv6by6v-wpengine.netdna-ssl.com/wp-content/uploads/2017/08/Word2Vec-Training-Models.png)"
   ]
  },
  {
   "cell_type": "markdown",
   "metadata": {},
   "source": [
    "#### Using Skipgram method"
   ]
  },
  {
   "cell_type": "code",
   "execution_count": 56,
   "metadata": {},
   "outputs": [],
   "source": [
    "model_sg = word2vec.Word2Vec(sentences, size=100,sg=1)"
   ]
  },
  {
   "cell_type": "code",
   "execution_count": 57,
   "metadata": {},
   "outputs": [
    {
     "data": {
      "text/plain": [
       "[('credit', 0.7641634345054626),\n",
       " ('repay', 0.7614789009094238),\n",
       " ('dividends', 0.7570552825927734),\n",
       " ('profits', 0.746127188205719),\n",
       " ('payments', 0.7405798435211182),\n",
       " ('specie', 0.7376066446304321),\n",
       " ('dues', 0.7341028451919556),\n",
       " ('lending', 0.7307177782058716),\n",
       " ('pay', 0.7299231886863708),\n",
       " ('investing', 0.7294635772705078)]"
      ]
     },
     "execution_count": 57,
     "metadata": {},
     "output_type": "execute_result"
    }
   ],
   "source": [
    "model_sg.wv.most_similar(\"money\")"
   ]
  },
  {
   "cell_type": "code",
   "execution_count": 58,
   "metadata": {},
   "outputs": [
    {
     "data": {
      "text/plain": [
       "[('elizabeth', 0.831020176410675),\n",
       " ('highness', 0.7570511102676392),\n",
       " ('consort', 0.748650848865509),\n",
       " ('isabella', 0.745830774307251),\n",
       " ('prince', 0.7363220453262329),\n",
       " ('king', 0.7313359975814819),\n",
       " ('regnant', 0.7224353551864624),\n",
       " ('princess', 0.7220131754875183),\n",
       " ('margrethe', 0.7179434895515442),\n",
       " ('hrh', 0.7114557027816772)]"
      ]
     },
     "execution_count": 58,
     "metadata": {},
     "output_type": "execute_result"
    }
   ],
   "source": [
    "model_sg.wv.most_similar(\"queen\")"
   ]
  },
  {
   "cell_type": "code",
   "execution_count": 59,
   "metadata": {},
   "outputs": [
    {
     "data": {
      "text/plain": [
       "[('queen', 0.660844087600708),\n",
       " ('consort', 0.6528236865997314),\n",
       " ('sigismund', 0.6407172083854675),\n",
       " ('prince', 0.6390977501869202),\n",
       " ('dowager', 0.6242818832397461)]"
      ]
     },
     "execution_count": 59,
     "metadata": {},
     "output_type": "execute_result"
    }
   ],
   "source": [
    "model_sg.wv.most_similar(positive=['woman', 'king'], negative=['man'], topn=5)"
   ]
  },
  {
   "cell_type": "code",
   "execution_count": 60,
   "metadata": {},
   "outputs": [
    {
     "data": {
      "text/plain": [
       "[('basaltic', 0.9185602068901062),\n",
       " ('sinuous', 0.9090628623962402),\n",
       " ('troughs', 0.8966103792190552),\n",
       " ('tortuous', 0.8908729553222656),\n",
       " ('outwash', 0.8833591341972351),\n",
       " ('buttes', 0.8805767297744751),\n",
       " ('abyssal', 0.8805713653564453),\n",
       " ('glacially', 0.8782668709754944),\n",
       " ('steeper', 0.8763102293014526),\n",
       " ('wadis', 0.8758212924003601)]"
      ]
     },
     "execution_count": 60,
     "metadata": {},
     "output_type": "execute_result"
    }
   ],
   "source": [
    "model_sg.wv.most_similar(\"meandering\")"
   ]
  },
  {
   "cell_type": "markdown",
   "metadata": {},
   "source": [
    "#### Learning:\n",
    "In CBOW the vectors from the context words are averaged before predicting the center word. In skip-gram there is no averaging of embedding vectors. It seems like the model can learn better representations for the rare words when their vectors are not averaged with the other context words in the process of making the predictions. "
   ]
  },
  {
   "cell_type": "markdown",
   "metadata": {},
   "source": [
    "## Word vectors trained on different contexts\n",
    " - We'll load different corpora, from different contexts and see how the embeddings vary\n",
    " - The text8 corpus is wikipedia pages, while Brown corpus is from 15 different topics, and movie reviews are from IMDB"
   ]
  },
  {
   "cell_type": "code",
   "execution_count": 61,
   "metadata": {},
   "outputs": [],
   "source": [
    "from nltk.corpus import brown, movie_reviews"
   ]
  },
  {
   "cell_type": "code",
   "execution_count": 62,
   "metadata": {},
   "outputs": [],
   "source": [
    "model_brown = Word2Vec(brown.sents(), sg=1)\n",
    "model_movie = Word2Vec(movie_reviews.sents(), sg=1, window=5)"
   ]
  },
  {
   "cell_type": "code",
   "execution_count": 63,
   "metadata": {},
   "outputs": [
    {
     "data": {
      "text/plain": [
       "[('credit', 0.7641634345054626),\n",
       " ('repay', 0.7614789009094238),\n",
       " ('dividends', 0.7570552825927734),\n",
       " ('profits', 0.746127188205719),\n",
       " ('payments', 0.7405798435211182)]"
      ]
     },
     "execution_count": 63,
     "metadata": {},
     "output_type": "execute_result"
    }
   ],
   "source": [
    "model_sg.wv.most_similar('money', topn=5)"
   ]
  },
  {
   "cell_type": "code",
   "execution_count": 64,
   "metadata": {},
   "outputs": [
    {
     "data": {
      "text/plain": [
       "[('care', 0.8303298950195312),\n",
       " ('joy', 0.8202750086784363),\n",
       " ('part-time', 0.8169668316841125),\n",
       " ('anywhere', 0.8144898414611816),\n",
       " ('comfort', 0.8107900619506836)]"
      ]
     },
     "execution_count": 64,
     "metadata": {},
     "output_type": "execute_result"
    }
   ],
   "source": [
    "model_brown.wv.most_similar('money', topn=5)"
   ]
  },
  {
   "cell_type": "code",
   "execution_count": 65,
   "metadata": {},
   "outputs": [
    {
     "data": {
      "text/plain": [
       "[('cash', 0.7499756217002869),\n",
       " ('ransom', 0.7169597148895264),\n",
       " ('risk', 0.7109711170196533),\n",
       " ('paid', 0.701310396194458),\n",
       " ('record', 0.6988357305526733)]"
      ]
     },
     "execution_count": 65,
     "metadata": {},
     "output_type": "execute_result"
    }
   ],
   "source": [
    "model_movie.wv.most_similar('money', topn=5)"
   ]
  },
  {
   "cell_type": "markdown",
   "metadata": {},
   "source": [
    " \n",
    "I hope it’s pretty clear from the above examples that the semantic similarity of words can vary greatly depending on the textual context. "
   ]
  },
  {
   "cell_type": "markdown",
   "metadata": {},
   "source": [
    "## Using pre-trained word vectors"
   ]
  },
  {
   "cell_type": "markdown",
   "metadata": {},
   "source": [
    "### A quick note on Glove:\n",
    "   - Developed by Stanford by training on 6 Billion tokens\n",
    "   - Objective is slightly different\n",
    "   - End result very similar to Google's word2vec"
   ]
  },
  {
   "cell_type": "markdown",
   "metadata": {},
   "source": [
    "https://nlp.stanford.edu/projects/glove/"
   ]
  },
  {
   "cell_type": "markdown",
   "metadata": {},
   "source": [
    "- We'll use the 100D vectors for this example.\n",
    "- The trained vectors are available in a text file\n",
    "- The format is slightly different from that of word2vec, necessitating the use of a utility to format accordingly"
   ]
  },
  {
   "cell_type": "code",
   "execution_count": 70,
   "metadata": {},
   "outputs": [
    {
     "data": {
      "text/plain": [
       "(400000, 100)"
      ]
     },
     "execution_count": 70,
     "metadata": {},
     "output_type": "execute_result"
    }
   ],
   "source": [
    "from gensim.scripts.glove2word2vec import glove2word2vec\n",
    "glove_input_file = 'glove.6B.100d.txt'\n",
    "word2vec_output_file = 'glove.6B.100d.w2vformat.txt'\n",
    "glove2word2vec(glove_input_file, word2vec_output_file)"
   ]
  },
  {
   "cell_type": "code",
   "execution_count": 67,
   "metadata": {},
   "outputs": [
    {
     "name": "stdout",
     "output_type": "stream",
     "text": [
      "Will not apply HSTS. The HSTS database must be a regular and non-world-writable file.\n",
      "ERROR: could not open HSTS store at '/home/yamshee/.wget-hsts'. HSTS will be disabled.\n",
      "--2020-12-28 13:26:18--  http://nlp.stanford.edu/data/glove.6B.zip\n",
      "Resolving nlp.stanford.edu (nlp.stanford.edu)... 171.64.67.140\n",
      "Connecting to nlp.stanford.edu (nlp.stanford.edu)|171.64.67.140|:80... connected.\n",
      "HTTP request sent, awaiting response... 302 Found\n",
      "Location: https://nlp.stanford.edu/data/glove.6B.zip [following]\n",
      "--2020-12-28 13:26:18--  https://nlp.stanford.edu/data/glove.6B.zip\n",
      "Connecting to nlp.stanford.edu (nlp.stanford.edu)|171.64.67.140|:443... connected.\n",
      "HTTP request sent, awaiting response... 301 Moved Permanently\n",
      "Location: http://downloads.cs.stanford.edu/nlp/data/glove.6B.zip [following]\n",
      "--2020-12-28 13:26:20--  http://downloads.cs.stanford.edu/nlp/data/glove.6B.zip\n",
      "Resolving downloads.cs.stanford.edu (downloads.cs.stanford.edu)... 171.64.64.22\n",
      "Connecting to downloads.cs.stanford.edu (downloads.cs.stanford.edu)|171.64.64.22|:80... connected.\n",
      "HTTP request sent, awaiting response... 200 OK\n",
      "Length: 862182613 (822M) [application/zip]\n",
      "Saving to: ‘glove.6B.zip’\n",
      "\n",
      "glove.6B.zip        100%[===================>] 822.24M  2.09MB/s    in 6m 57s  \n",
      "\n",
      "2020-12-28 13:33:17 (1.97 MB/s) - ‘glove.6B.zip’ saved [862182613/862182613]\n",
      "\n"
     ]
    }
   ],
   "source": [
    "!wget http://nlp.stanford.edu/data/glove.6B.zip"
   ]
  },
  {
   "cell_type": "code",
   "execution_count": 69,
   "metadata": {},
   "outputs": [
    {
     "name": "stdout",
     "output_type": "stream",
     "text": [
      "Archive:  glove.6B.zip\n",
      "  inflating: glove.6B.50d.txt        \n",
      "  inflating: glove.6B.100d.txt       \n",
      "  inflating: glove.6B.200d.txt       \n",
      "  inflating: glove.6B.300d.txt       \n"
     ]
    }
   ],
   "source": [
    "!unzip glove*.zip"
   ]
  },
  {
   "cell_type": "code",
   "execution_count": 71,
   "metadata": {},
   "outputs": [],
   "source": [
    "from gensim.models.keyedvectors import KeyedVectors\n",
    "glove_model = KeyedVectors.load_word2vec_format(\"glove.6B.100d.w2vformat.txt\", binary=False)"
   ]
  },
  {
   "cell_type": "markdown",
   "metadata": {},
   "source": [
    "#### Now you can use all the methods you used with word2vec models"
   ]
  },
  {
   "cell_type": "code",
   "execution_count": 72,
   "metadata": {},
   "outputs": [
    {
     "data": {
      "text/plain": [
       "[('prince', 0.7682329416275024),\n",
       " ('queen', 0.7507690191268921),\n",
       " ('son', 0.7020887136459351),\n",
       " ('brother', 0.6985775232315063),\n",
       " ('monarch', 0.6977890729904175),\n",
       " ('throne', 0.6919990181922913),\n",
       " ('kingdom', 0.6811410188674927),\n",
       " ('father', 0.6802029013633728),\n",
       " ('emperor', 0.6712857484817505),\n",
       " ('ii', 0.6676074266433716)]"
      ]
     },
     "execution_count": 72,
     "metadata": {},
     "output_type": "execute_result"
    }
   ],
   "source": [
    "glove_model.most_similar(\"king\")"
   ]
  },
  {
   "cell_type": "code",
   "execution_count": 73,
   "metadata": {},
   "outputs": [
    {
     "data": {
      "text/plain": [
       "[('queen', 0.7698541283607483),\n",
       " ('monarch', 0.6843380928039551),\n",
       " ('throne', 0.6755735874176025),\n",
       " ('daughter', 0.6594556570053101),\n",
       " ('princess', 0.6520534753799438)]"
      ]
     },
     "execution_count": 73,
     "metadata": {},
     "output_type": "execute_result"
    }
   ],
   "source": [
    "glove_model.most_similar(positive=['woman', 'king'], negative=['man'], topn=5)"
   ]
  },
  {
   "cell_type": "code",
   "execution_count": 74,
   "metadata": {},
   "outputs": [
    {
     "data": {
      "text/plain": [
       "[('heroine', 0.7324979305267334),\n",
       " ('heroes', 0.6356217265129089),\n",
       " ('icon', 0.6185224056243896),\n",
       " ('beloved', 0.6136684417724609),\n",
       " ('herself', 0.5904075503349304)]"
      ]
     },
     "execution_count": 74,
     "metadata": {},
     "output_type": "execute_result"
    }
   ],
   "source": [
    "glove_model.most_similar(positive=['woman', 'hero'], negative=['man'], topn=5)"
   ]
  },
  {
   "cell_type": "code",
   "execution_count": null,
   "metadata": {},
   "outputs": [],
   "source": []
  }
 ],
 "metadata": {
  "kernelspec": {
   "display_name": "Python 3",
   "language": "python",
   "name": "python3"
  },
  "language_info": {
   "codemirror_mode": {
    "name": "ipython",
    "version": 3
   },
   "file_extension": ".py",
   "mimetype": "text/x-python",
   "name": "python",
   "nbconvert_exporter": "python",
   "pygments_lexer": "ipython3",
   "version": "3.7.3"
  }
 },
 "nbformat": 4,
 "nbformat_minor": 2
}
